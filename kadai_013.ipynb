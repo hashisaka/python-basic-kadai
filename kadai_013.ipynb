{
  "nbformat": 4,
  "nbformat_minor": 0,
  "metadata": {
    "colab": {
      "provenance": [],
      "toc_visible": true
    },
    "kernelspec": {
      "name": "python3",
      "display_name": "Python 3"
    },
    "language_info": {
      "name": "python"
    }
  },
  "cells": [
    {
      "cell_type": "code",
      "source": [
        "# 変数tax_rateを定義\n",
        "tax_rate = 1.1\n",
        "# 引数priceを定義\n",
        "def calculate_total(price):\n",
        " # 変数totalを定義\n",
        " total = price * tax_rate\n",
        " print(f\"{total}円\")\n",
        "\n",
        "# tax込みの値段を計算する\n",
        "calculate_total(1100)"
      ],
      "metadata": {
        "colab": {
          "base_uri": "https://localhost:8080/"
        },
        "id": "ABYpAzdInt70",
        "outputId": "4b7cb396-0c17-4afb-bcb7-3d6eacd6724f"
      },
      "execution_count": 28,
      "outputs": [
        {
          "output_type": "stream",
          "name": "stdout",
          "text": [
            "1210.0円\n"
          ]
        }
      ]
    }
  ]
}