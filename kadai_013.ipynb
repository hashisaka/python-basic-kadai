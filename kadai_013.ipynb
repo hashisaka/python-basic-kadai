{
  "nbformat": 4,
  "nbformat_minor": 0,
  "metadata": {
    "colab": {
      "provenance": [],
      "toc_visible": true
    },
    "kernelspec": {
      "name": "python3",
      "display_name": "Python 3"
    },
    "language_info": {
      "name": "python"
    }
  },
  "cells": [
    {
      "cell_type": "code",
      "source": [
        "# 引数priceとtax_rateを定義\n",
        "def calculate_total(price,tax_rate=1.1):\n",
        " # 変数totalを定義\n",
        " total = price * tax_rate\n",
        " # 変数totalを出力\n",
        " print(f\"{total}円\")\n",
        "\n",
        "# calculate_totalを出力\n",
        "calculate_total(1100)"
      ],
      "metadata": {
        "colab": {
          "base_uri": "https://localhost:8080/"
        },
        "id": "ABYpAzdInt70",
        "outputId": "aec1b99a-bdf0-4557-9d17-036ee04702a9"
      },
      "execution_count": 33,
      "outputs": [
        {
          "output_type": "stream",
          "name": "stdout",
          "text": [
            "1210.0円\n"
          ]
        }
      ]
    }
  ]
}