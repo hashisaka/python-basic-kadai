{
  "nbformat": 4,
  "nbformat_minor": 0,
  "metadata": {
    "colab": {
      "provenance": []
    },
    "kernelspec": {
      "name": "python3",
      "display_name": "Python 3"
    },
    "language_info": {
      "name": "python"
    }
  },
  "cells": [
    {
      "cell_type": "code",
      "execution_count": 5,
      "metadata": {
        "id": "Y6J_A5iXvgeE"
      },
      "outputs": [],
      "source": [
        "import pandas as pd\n",
        "\n",
        "# データフレームを定義\n",
        "df = pd.DataFrame({\n",
        "   '日付': ['2023-05-17', '2023-05-18', '2023-05-19', '2023-05-20', '2023-05-21'],\n",
        "    '社員名': ['山田', '佐藤', '鈴木', '田中', '高橋'],\n",
        "    '売上': [100, 200, 150, 300, 250],\n",
        "    '部門': ['メーカー', '代理店', 'メーカー', '商社', '代理店']\n",
        "})\n",
        "\n",
        "# 平均売上を求め平均売上dataを入力\n",
        "average_sales = df['売上'].mean()\n",
        "df['平均売上'] = average_sales\n",
        "\n",
        "# 業績ランクを求めるperformance関数を定義\n",
        "def performance(rank):\n",
        "  if rank >= average_sales + 50:\n",
        "    return 'A'\n",
        "  elif rank >= average_sales:\n",
        "    return 'B'\n",
        "  else:\n",
        "    return 'C'\n",
        "\n",
        "# 業績ランクdataを入力\n",
        "df['業績ランク'] = df['売上'].apply(performance)\n",
        "\n",
        "# Excelファイルを作成\n",
        "writer = pd.ExcelWriter('業績.xlsx')\n",
        "\n",
        "# Excelファイルにdataframeを書き込み\n",
        "df.to_excel(writer, sheet_name='sheet1',index=False)\n",
        "\n",
        "# Excelファイルを閉じる\n",
        "writer.close()"
      ]
    }
  ]
}