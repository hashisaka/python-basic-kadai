{
  "nbformat": 4,
  "nbformat_minor": 0,
  "metadata": {
    "colab": {
      "provenance": []
    },
    "kernelspec": {
      "name": "python3",
      "display_name": "Python 3"
    },
    "language_info": {
      "name": "python"
    }
  },
  "cells": [
    {
      "cell_type": "code",
      "execution_count": 27,
      "metadata": {
        "id": "Y6J_A5iXvgeE"
      },
      "outputs": [],
      "source": [
        "import pandas as pd\n",
        "import openpyxl\n",
        "from openpyxl.styles import PatternFill\n",
        "\n",
        "# 対象ファイルをlistに格納\n",
        "file_list = ['2022_年間売上表.xlsx','2023_年間売上表.xlsx']\n",
        "\n",
        "# dataを格納するdataframeを定義し、課題通りの表示形式にする\n",
        "df = pd.DataFrame(columns=['商品','売上年','金額（千円）'])\n",
        "\n",
        "# file_listごとにdataを格納\n",
        "for file_name in file_list:\n",
        "    # Excelfileを読み込み\n",
        "    temp_df = pd.read_excel(file_name, skiprows=0)\n",
        "    # dataの列名を指定\n",
        "    temp_df.columns = ['売上年','商品','金額（千円）']\n",
        "    # 売上年と商品が重複するデータを合算\n",
        "    temp_df = temp_df.groupby(['商品','売上年'], as_index=False)['金額（千円）'].sum()\n",
        "    # dataを連結\n",
        "    df = pd.concat([df, temp_df],ignore_index=True)\n",
        "\n",
        "# 連結されたdataを商品名ごとに並び替える\n",
        "df = df.sort_values(by=['商品'])\n",
        "\n",
        "# Excelfileを作成\n",
        "writer = pd.ExcelWriter('売上集計表.xlsx')\n",
        "\n",
        "# Excelfileにdataframeを書き込み\n",
        "df.to_excel(writer, sheet_name='sheet1',index=False)\n",
        "\n",
        "# workbookの取得\n",
        "wb = writer.book\n",
        "ws = wb.active\n",
        "\n",
        "# 1行目の色を変える\n",
        "color = 'F2F2F2'\n",
        "for cell in ws[1]:\n",
        "    cell.fill = PatternFill(start_color=color,end_color=color,fill_type='solid')\n",
        "\n",
        "\n",
        "# Excelfileを閉じる\n",
        "writer.close()"
      ]
    }
  ]
}