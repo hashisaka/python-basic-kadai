{
  "nbformat": 4,
  "nbformat_minor": 0,
  "metadata": {
    "colab": {
      "provenance": [],
      "toc_visible": true
    },
    "kernelspec": {
      "name": "python3",
      "display_name": "Python 3"
    },
    "language_info": {
      "name": "python"
    }
  },
  "cells": [
    {
      "cell_type": "code",
      "source": [
        "\n",
        "upper_side = 10\n",
        "lower_side = 20\n",
        "height = 5\n",
        "area = (upper_side + lower_side) * height / 2\n",
        "\n",
        "print(f\"上辺{upper_side}cm、下辺{lower_side}cm、高さ{height}cmの台形の面積は{area}㎠です。\")\n"
      ],
      "metadata": {
        "colab": {
          "base_uri": "https://localhost:8080/"
        },
        "id": "ABYpAzdInt70",
        "outputId": "ee06bd20-f4e0-43f4-b8f2-d32efdaedf03"
      },
      "execution_count": 19,
      "outputs": [
        {
          "output_type": "stream",
          "name": "stdout",
          "text": [
            "上辺10cm、下辺20cm、高さ5cmの台形の面積は75.0㎠です。\n"
          ]
        }
      ]
    }
  ]
}