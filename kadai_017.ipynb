{
  "nbformat": 4,
  "nbformat_minor": 0,
  "metadata": {
    "colab": {
      "provenance": [],
      "toc_visible": true
    },
    "kernelspec": {
      "name": "python3",
      "display_name": "Python 3"
    },
    "language_info": {
      "name": "python"
    }
  },
  "cells": [
    {
      "cell_type": "code",
      "source": [
        "# クラスの定義\n",
        "class Human:\n",
        "\n",
        "    # コンストラクタを定義\n",
        "    def __init__(self,name,age):\n",
        "      self.name = name\n",
        "      self.age = age\n",
        "\n",
        "    # 年齢にてadultか判別するメソッドを定義\n",
        "    def check_adult(self):\n",
        "      if self.age >= 20:\n",
        "        print(f\"{self.name}は大人です\")\n",
        "      else:\n",
        "        print(f\"{self.name}は大人ではありません\")\n",
        "\n",
        "# インスタンス化\n",
        "tanaka = Human(\"田中\",20)\n",
        "ono = Human(\"小野\",15)\n",
        "sato = Human(\"佐藤\",19)\n",
        "konno = Human(\"今野\",20)\n",
        "hirai = Human(\"平井\",21)\n",
        "\n",
        "# リストにインスタンスを追加\n",
        "human_list = [tanaka,ono,sato,konno,hirai]\n",
        "\n",
        "#出力\n",
        "for human in human_list:\n",
        "    human.check_adult()\n"
      ],
      "metadata": {
        "colab": {
          "base_uri": "https://localhost:8080/"
        },
        "id": "buRiENlNQHmo",
        "outputId": "c1d0dbbe-912c-498f-f18f-c6486ed8b93f"
      },
      "execution_count": 5,
      "outputs": [
        {
          "output_type": "stream",
          "name": "stdout",
          "text": [
            "田中は大人です\n",
            "小野は大人ではありません\n",
            "佐藤は大人ではありません\n",
            "今野は大人です\n",
            "平井は大人です\n"
          ]
        }
      ]
    }
  ]
}