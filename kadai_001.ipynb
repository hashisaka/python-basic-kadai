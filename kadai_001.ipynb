{
  "nbformat": 4,
  "nbformat_minor": 0,
  "metadata": {
    "colab": {
      "provenance": []
    },
    "kernelspec": {
      "name": "python3",
      "display_name": "Python 3"
    },
    "language_info": {
      "name": "python"
    }
  },
  "cells": [
    {
      "cell_type": "code",
      "execution_count": 2,
      "metadata": {
        "id": "Y6J_A5iXvgeE"
      },
      "outputs": [],
      "source": [
        "# 請求書のひな型の作成\n",
        "\n",
        "import openpyxl\n",
        "\n",
        "# 新しいワークブックを作成\n",
        "workbook = openpyxl.Workbook()\n",
        "ws = workbook.active\n",
        "\n",
        "# セルB1に\"請求書\"を入力\n",
        "ws['B2'] = '請求書'\n",
        "\n",
        "# セルF4に\"No.\"を入力\n",
        "ws['F4'] = 'No.'\n",
        "\n",
        "# セルF5に\"日付\"を入力\n",
        "ws['F5'] = '日付'\n",
        "\n",
        "# ファイル名を指定して保存\n",
        "file_name = '請求書ひな形.xlsx'\n",
        "workbook.save(file_name)"
      ]
    },
    {
      "cell_type": "code",
      "source": [
        "import openpyxl\n",
        "from datetime import datetime\n",
        "\n",
        "# ひな形を読み込む\n",
        "workbook = openpyxl.load_workbook(\"請求書ひな形.xlsx\")\n",
        "ws = workbook.active\n",
        "\n",
        "# セルG4にNoを入力\n",
        "ws['G4'] = '0001'\n",
        "\n",
        "# セルG5に今日の日付を入力\n",
        "today = datetime.today().strftime('%Y/%m/%d')\n",
        "ws['G5'] = today\n",
        "\n",
        "# リスト定義\n",
        "bill_list = [\n",
        "    \"株式会社ABC\",\n",
        "    \"〒101-0022 東京都千代田区神田練塀町300\",\n",
        "    \"TEL:03-1234-5678 FAX:03-1234-5678\",\n",
        "    \"担当者名:鈴木一郎 様\"\n",
        "]\n",
        "\n",
        "bill_header = ['商品名', '数量', '単価', '金額']\n",
        "\n",
        "bill_data = [\n",
        "    ['商品A', 2, 10000, 20000],\n",
        "    ['商品B', 1, 15000, 15000],\n",
        "    [\"\", \"\", \"\", 35000],  # 空セル\n",
        "    [\"\", \"\", \"\", \"\"],  # 空セル\n",
        "    [\"小計\", \"\", \"\", 35000],\n",
        "    [\"消費税\", \"\", \"\", 3500],\n",
        "    [\"合計\", \"\", \"\", 38500],\n",
        "]\n",
        "\n",
        "# リストをB4から下方向に挿入\n",
        "start_row = 4\n",
        "for item in bill_list:\n",
        "    ws.cell(row=start_row, column=2, value=item)\n",
        "    start_row += 1\n",
        "\n",
        "# 表のヘッダーをB10から挿入\n",
        "header_row = 10\n",
        "for col_num, header_item in enumerate(bill_header, start=2):\n",
        "    ws.cell(row=header_row, column=col_num, value=header_item)\n",
        "\n",
        "# 表のデータを挿入\n",
        "data_row = 11\n",
        "for data_item in bill_data:\n",
        "    for col_num, value in enumerate(data_item, start=2):\n",
        "        ws.cell(row=data_row, column=col_num, value=value)\n",
        "    data_row += 1\n",
        "\n",
        "# 修正: Workbookオブジェクトに対してsaveメソッドを呼び出す\n",
        "today_filename = datetime.today().strftime('%Y%m%d')\n",
        "output_filename = f\"請求書_{today_filename}.xlsx\"\n",
        "workbook.save(output_filename)\n"
      ],
      "metadata": {
        "id": "SHWUCd4EvnFN"
      },
      "execution_count": 12,
      "outputs": []
    }
  ]
}