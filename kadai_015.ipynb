{
  "nbformat": 4,
  "nbformat_minor": 0,
  "metadata": {
    "colab": {
      "provenance": [],
      "toc_visible": true
    },
    "kernelspec": {
      "name": "python3",
      "display_name": "Python 3"
    },
    "language_info": {
      "name": "python"
    }
  },
  "cells": [
    {
      "cell_type": "code",
      "source": [
        "# クラスの定義\n",
        "class Human:\n",
        "\n",
        "    # コンストラクタを定義\n",
        "    def __init__(self,name,age):\n",
        "      self.name = name\n",
        "      self.age = age\n",
        "\n",
        "    # メソッドを定義\n",
        "    def printinfo(self):\n",
        "      print(self.name)\n",
        "      print(self.age)\n",
        "\n",
        "# インスタンス化\n",
        "human = Human(\"田中\",99)\n",
        "\n",
        "# 値を出力\n",
        "human.printinfo()\n"
      ],
      "metadata": {
        "colab": {
          "base_uri": "https://localhost:8080/"
        },
        "id": "buRiENlNQHmo",
        "outputId": "2a5fed46-411d-4e26-b909-5ab4b44d0450"
      },
      "execution_count": 89,
      "outputs": [
        {
          "output_type": "stream",
          "name": "stdout",
          "text": [
            "田中\n",
            "99\n"
          ]
        }
      ]
    },
    {
      "cell_type": "code",
      "source": [],
      "metadata": {
        "id": "DdEzQVsrpFDV"
      },
      "execution_count": null,
      "outputs": []
    }
  ]
}